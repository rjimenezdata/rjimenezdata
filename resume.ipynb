{
  "cells": [
    {
      "cell_type": "raw",
      "metadata": {},
      "source": [
        "---\n",
        "title: \"Resume\"\n",
        "---"
      ],
      "id": "a28dcc3c"
    },
    {
      "cell_type": "markdown",
      "metadata": {},
      "source": [
        "```{html}\n",
        "<embed src=\"https://https://github.com/rjimenezdata/rjimenezdata.github.io/blob/main/Spring23Resume.pdf\" type=\"application/pdf\"/>\n",
        "```"
      ],
      "id": "75ae99f2"
    }
  ],
  "metadata": {
    "kernelspec": {
      "display_name": "Python 3",
      "language": "python",
      "name": "python3"
    }
  },
  "nbformat": 4,
  "nbformat_minor": 5
}